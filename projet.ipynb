{
 "cells": [
  {
   "cell_type": "code",
   "execution_count": 1,
   "metadata": {},
   "outputs": [
    {
     "name": "stdout",
     "output_type": "stream",
     "text": [
      "Lecture directe du fichier : https://object.files.data.gouv.fr/meteofrance/data/synchro_ftp/REF_CC/SIM/QUOT_SIM2_1958-1959.csv.gz\n",
      "Données chargées : (5124056, 28)\n",
      "   LAMBX  LAMBY      DATE  PRENEI_Q  PRELIQ_Q   T_Q  FF_Q     Q_Q   DLI_Q  \\\n",
      "0    600  24010  19580801       0.0       0.0  15.3   3.5   8.669  2710.7   \n",
      "1    600  24010  19580802       0.0       0.0  14.0   3.1   7.751  3090.1   \n",
      "2    600  24010  19580803       0.0       0.0  15.0   3.9   8.956  3491.8   \n",
      "3    600  24010  19580804       0.0       0.0  16.4   4.1   9.825  3556.7   \n",
      "4    600  24010  19580805       0.0       9.2  16.8   4.1  10.938  3553.3   \n",
      "\n",
      "    SSI_Q  ...  RESR_NEIGE6_Q  HTEURNEIGE_Q  HTEURNEIGE6_Q  HTEURNEIGEX_Q  \\\n",
      "0  1280.0  ...            0.0           0.0            0.0            0.0   \n",
      "1  1449.4  ...            0.0           0.0            0.0            0.0   \n",
      "2  1045.3  ...            0.0           0.0            0.0            0.0   \n",
      "3  1350.8  ...            0.0           0.0            0.0            0.0   \n",
      "4   782.5  ...            0.0           0.0            0.0            0.0   \n",
      "\n",
      "   SNOW_FRAC_Q  ECOULEMENT_Q  WG_RACINE_Q  WGI_RACINE_Q  TINF_H_Q  TSUP_H_Q  \n",
      "0          0.0           0.0        0.223           0.0      11.9      17.8  \n",
      "1          0.0           0.0        0.223           0.0      10.3      17.6  \n",
      "2          0.0           0.0        0.223           0.0      11.2      19.1  \n",
      "3          0.0           0.0        0.222           0.0      14.7      17.8  \n",
      "4          0.0           0.0        0.222           0.0      16.6      17.4  \n",
      "\n",
      "[5 rows x 28 columns]\n",
      "Index(['LAMBX', 'LAMBY', 'DATE', 'PRENEI_Q', 'PRELIQ_Q', 'T_Q', 'FF_Q', 'Q_Q',\n",
      "       'DLI_Q', 'SSI_Q', 'HU_Q', 'EVAP_Q', 'ETP_Q', 'PE_Q', 'SWI_Q',\n",
      "       'DRAINC_Q', 'RUNC_Q', 'RESR_NEIGE_Q', 'RESR_NEIGE6_Q', 'HTEURNEIGE_Q',\n",
      "       'HTEURNEIGE6_Q', 'HTEURNEIGEX_Q', 'SNOW_FRAC_Q', 'ECOULEMENT_Q',\n",
      "       'WG_RACINE_Q', 'WGI_RACINE_Q', 'TINF_H_Q', 'TSUP_H_Q'],\n",
      "      dtype='object')\n"
     ]
    }
   ],
   "source": [
    "import requests\n",
    "import pandas as pd\n",
    "\n",
    "# URL de l'API data.gouv.fr pour le dataset\n",
    "dataset_id = \"donnees-changement-climatique-sim-quotidienne\"\n",
    "url = f\"https://www.data.gouv.fr/api/1/datasets/{dataset_id}/\"\n",
    "\n",
    "# Requête pour obtenir les métadonnées\n",
    "response = requests.get(url)\n",
    "data = response.json()\n",
    "\n",
    "# Filtrer les fichiers CSV disponibles\n",
    "csv_urls = [res[\"url\"] for res in data[\"resources\"] if res[\"format\"] in [\"csv\", \"csv.gz\"]]\n",
    "\n",
    "# Vérifier si des fichiers sont disponibles\n",
    "if csv_urls:\n",
    "    csv_url = csv_urls[0]  # Sélection du premier fichier disponible\n",
    "    print(f\"Lecture directe du fichier : {csv_url}\")\n",
    "\n",
    "    # Lire directement le fichier CSV sans le télécharger localement\n",
    "    df = pd.read_csv(csv_url, compression=\"gzip\" if csv_url.endswith(\".gz\") else None, sep=None, engine=\"python\")\n",
    "\n",
    "    # Affichage des résultats\n",
    "    print(f\"Données chargées : {df.shape}\")\n",
    "    print(df.head())\n",
    "    print(df.columns)\n",
    "else:\n",
    "    print(\"Aucun fichier de données météorologiques trouvé.\")\n"
   ]
  }
 ],
 "metadata": {
  "kernelspec": {
   "display_name": "Python 3",
   "language": "python",
   "name": "python3"
  },
  "language_info": {
   "codemirror_mode": {
    "name": "ipython",
    "version": 3
   },
   "file_extension": ".py",
   "mimetype": "text/x-python",
   "name": "python",
   "nbconvert_exporter": "python",
   "pygments_lexer": "ipython3",
   "version": "3.11.0"
  }
 },
 "nbformat": 4,
 "nbformat_minor": 2
}
