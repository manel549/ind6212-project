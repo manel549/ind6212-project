{
 "cells": [
  {
   "cell_type": "code",
   "execution_count": 22,
   "metadata": {},
   "outputs": [
    {
     "name": "stdout",
     "output_type": "stream",
     "text": [
      "Téléchargement du fichier : https://object.files.data.gouv.fr/meteofrance/data/synchro_ftp/REF_CC/SIM/coordonnees_grille_safran_lambert-2-etendu.csv\n",
      "(9892, 4)\n",
      "   LAMBX (hm)  LAMBY (hm)   LAT_DG    LON_DG\n",
      "0         600       24010  48,3822  -4,96118\n",
      "1         760       24170  48,5386  -4,76561\n",
      "2         760       24090   48,467  -4,75585\n",
      "3         760       24010  48,3953  -4,74612\n",
      "4         760       23930  48,3237  -4,73641\n",
      "Index(['LAMBX (hm)', 'LAMBY (hm)', 'LAT_DG', 'LON_DG'], dtype='object')\n"
     ]
    }
   ],
   "source": [
    "import requests\n",
    "import pandas as pd\n",
    "\n",
    "# URL de l'API data.gouv.fr pour le dataset\n",
    "dataset_id = \"donnees-changement-climatique-sim-quotidienne\"\n",
    "url = f\"https://www.data.gouv.fr/api/1/datasets/{dataset_id}/\"\n",
    "\n",
    "# Requête pour obtenir les métadonnées\n",
    "response = requests.get(url)\n",
    "data = response.json()\n",
    "\n",
    "# Trouver les fichiers CSV\n",
    "csv_urls = [res[\"url\"] for res in data[\"resources\"] if res[\"format\"] == \"csv\"]\n",
    "\n",
    "# Télécharger et charger le premier fichier CSV\n",
    "if csv_urls:\n",
    "    csv_url = csv_urls[0]  # Prendre le premier CSV disponible\n",
    "   # print(f\"Téléchargement du fichier  : {csv_url[0]['title']} ({csv_url})\")\n",
    "    print(f\"Téléchargement du fichier : {csv_url}\")\n",
    "\n",
    "  \n",
    "    df = pd.read_csv(csv_url, sep=None, engine=\"python\")\n",
    "    print(df.shape)\n",
    "\n",
    "  \n",
    "    print(df.head())\n",
    "    print(df.columns)\n",
    "else:\n",
    "    print(\"Aucun fichier CSV trouvé.\")\n"
   ]
  }
 ],
 "metadata": {
  "kernelspec": {
   "display_name": "Python 3",
   "language": "python",
   "name": "python3"
  },
  "language_info": {
   "codemirror_mode": {
    "name": "ipython",
    "version": 3
   },
   "file_extension": ".py",
   "mimetype": "text/x-python",
   "name": "python",
   "nbconvert_exporter": "python",
   "pygments_lexer": "ipython3",
   "version": "3.11.0"
  }
 },
 "nbformat": 4,
 "nbformat_minor": 2
}
